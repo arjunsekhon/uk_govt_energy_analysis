{
 "cells": [
  {
   "cell_type": "code",
   "execution_count": 1,
   "id": "e62fc744-ea69-412c-8105-c174c5a0d3b8",
   "metadata": {},
   "outputs": [],
   "source": [
    "import requests\n",
    "from bs4 import BeautifulSoup\n",
    "import json\n",
    "import pandas as pd\n",
    "from tenacity import retry, stop_after_attempt, wait_exponential, RetryError\n",
    "\n",
    "URL_PAGE = \"https://www.gov.uk/government/statistics/oil-and-oil-products-section-3-energy-trends\"\n",
    "TARGET_MATCH_PHRASE = \"Supply and use of crude oil, natural gas liquids and feedstocks\"\n",
    "LAST_LINK_FILE = 'last_link.txt'"
   ]
  },
  {
   "cell_type": "code",
   "execution_count": 2,
   "id": "a6bd38df-6d38-4cca-900d-9bbe29566326",
   "metadata": {},
   "outputs": [],
   "source": [
    "def extract_link_from_jsonld(soup):\n",
    "    script_tags = soup.find_all(\"script\", type=\"application/ld+json\")\n",
    "    for tag in script_tags:\n",
    "        try:\n",
    "            data = json.loads(tag.string)\n",
    "        except json.JSONDecodeError:\n",
    "            continue\n",
    "\n",
    "        items = data if isinstance(data, list) else [data]\n",
    "        for item in items:\n",
    "            if item.get('@type') == 'BreadcrumbList':\n",
    "                continue\n",
    "\n",
    "            distributions = item.get(\"distribution\", [])\n",
    "            if isinstance(distributions, dict):\n",
    "                distributions = [distributions]\n",
    "            for d in distributions:\n",
    "                if TARGET_MATCH_PHRASE in d.get(\"name\", \"\"):\n",
    "                    return d.get(\"contentUrl\")\n",
    "    return None        "
   ]
  },
  {
   "cell_type": "code",
   "execution_count": 3,
   "id": "2a9137d7-494d-48aa-8133-c8eeaf3686ba",
   "metadata": {},
   "outputs": [],
   "source": [
    "def load_last_link(filepath=LAST_LINK_FILE):\n",
    "    if os.path.exists(filepath):\n",
    "        with open(filepath, 'r', encoding='utf-8') as f:\n",
    "            return f.read().strip()\n",
    "    return None"
   ]
  },
  {
   "cell_type": "code",
   "execution_count": 4,
   "id": "7b7fc746-a157-4858-a4ee-5435973d44d2",
   "metadata": {},
   "outputs": [],
   "source": [
    "def save_last_link(link, filepath=LAST_LINK_FILE):\n",
    "    with open(filepath, 'w', encoding='utf-8') as f:\n",
    "        f.write(link)"
   ]
  },
  {
   "cell_type": "code",
   "execution_count": 5,
   "id": "e79cda85-cbea-4d18-86c5-55bdaccfc2ac",
   "metadata": {},
   "outputs": [],
   "source": [
    "@retry(stop=stop_after_attempt(3), wait=wait_exponential(multiplier=1, min=4, max=10))\n",
    "def download_file_with_retry(url, filename=\"energy_data.xlsx\"):\n",
    "    response = requests.get(url)\n",
    "    response.raise_for_status()\n",
    "    \n",
    "    with open(filename, \"wb\") as file:\n",
    "        file.write(response.content)\n",
    "\n",
    "    print(f\"File downloaded: {filename}\")\n",
    "    return filename"
   ]
  },
  {
   "cell_type": "code",
   "execution_count": 7,
   "id": "3ee728ae-a803-4320-a866-48df09b26198",
   "metadata": {},
   "outputs": [
    {
     "name": "stdout",
     "output_type": "stream",
     "text": [
      "New spreadsheet link found https://assets.publishing.service.gov.uk/media/6762b1d5cdb5e64b69e3073b/ET_3.1_DEC_24.xlsx\n",
      "File downloaded: energy_data.xlsx\n"
     ]
    }
   ],
   "source": [
    "def main():\n",
    "    response = requests.get(URL_PAGE)\n",
    "    response.raise_for_status()\n",
    "    soup = BeautifulSoup(response.text, 'lxml')\n",
    "\n",
    "    new_link = extract_link_from_jsonld(soup)\n",
    "\n",
    "    if not new_link:\n",
    "        print(\"Could not extract the spreadsheet link.\")\n",
    "        return\n",
    "    if LAST_LINK_FILE == new_link:\n",
    "        print(\"Link unchanged. Exiting early.\")\n",
    "        return\n",
    "    if LAST_LINK_FILE != new_link:\n",
    "        print(f\"New spreadsheet link found {new_link}\")\n",
    "        try:\n",
    "            downloaded_file = download_file_with_retry(new_link)\n",
    "        except RetryError as e:\n",
    "            print(\"Download failed after all retries:\", e)\n",
    "\n",
    "main()"
   ]
  },
  {
   "cell_type": "code",
   "execution_count": 9,
   "id": "e02bb167-3d90-4be2-94f8-8d737d95dcc4",
   "metadata": {},
   "outputs": [
    {
     "name": "stdout",
     "output_type": "stream",
     "text": [
      "<class 'pandas.core.frame.DataFrame'>\n",
      "RangeIndex: 23 entries, 0 to 22\n",
      "Columns: 104 entries, Table 3.1 Supply and use of crude oil, natural gas liquids and feedstocks, quarterly data (thousand tonnes) [note 1] to Unnamed: 103\n",
      "dtypes: object(104)\n",
      "memory usage: 18.8+ KB\n"
     ]
    }
   ],
   "source": [
    "df = pd.read_excel(\"energy_data.xlsx\", sheet_name=\"Quarter\")\n",
    "df.info()"
   ]
  },
  {
   "cell_type": "code",
   "execution_count": null,
   "id": "5ecb78e1-4060-4e59-bec5-ca8856fdcb96",
   "metadata": {},
   "outputs": [],
   "source": []
  }
 ],
 "metadata": {
  "kernelspec": {
   "display_name": "Python 3 (ipykernel)",
   "language": "python",
   "name": "python3"
  },
  "language_info": {
   "codemirror_mode": {
    "name": "ipython",
    "version": 3
   },
   "file_extension": ".py",
   "mimetype": "text/x-python",
   "name": "python",
   "nbconvert_exporter": "python",
   "pygments_lexer": "ipython3",
   "version": "3.13.0"
  }
 },
 "nbformat": 4,
 "nbformat_minor": 5
}
